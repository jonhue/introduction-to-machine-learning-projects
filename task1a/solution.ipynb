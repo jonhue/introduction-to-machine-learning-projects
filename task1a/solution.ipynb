{
 "cells": [
  {
   "cell_type": "code",
   "execution_count": 105,
   "metadata": {},
   "outputs": [],
   "source": [
    "import numpy as np\n",
    "from sklearn.model_selection import KFold\n",
    "\n",
    "kf = KFold(n_splits=10)"
   ]
  },
  {
   "cell_type": "code",
   "execution_count": 106,
   "metadata": {},
   "outputs": [],
   "source": [
    "data = np.genfromtxt('train.csv', delimiter=',')\n",
    "y = data[1:,0]\n",
    "X = data[1:,1:]"
   ]
  },
  {
   "cell_type": "code",
   "execution_count": 107,
   "metadata": {},
   "outputs": [],
   "source": [
    "def ridge(lambd: float, X_train: np.ndarray, y_train: np.ndarray) -> np.ndarray:\n",
    "  w = np.dot(np.dot(np.linalg.inv(np.dot(X_train.T, X_train) + lambd), X_train.T), y_train)\n",
    "  return w"
   ]
  },
  {
   "cell_type": "code",
   "execution_count": 108,
   "metadata": {},
   "outputs": [],
   "source": [
    "def predict(w: np.ndarray, X: np.ndarray) -> np.ndarray:\n",
    "  return np.matmul(X, w)"
   ]
  },
  {
   "cell_type": "code",
   "execution_count": 109,
   "metadata": {},
   "outputs": [],
   "source": [
    "def rmse(w: np.ndarray, X_test: np.ndarray, y_test: np.ndarray) -> float:\n",
    "  y_pred = predict(w, X_test)\n",
    "  mse = np.square(np.subtract(y_test, y_pred)).mean()\n",
    "  return np.sqrt(mse)"
   ]
  },
  {
   "cell_type": "code",
   "execution_count": 110,
   "metadata": {},
   "outputs": [],
   "source": [
    "def cv(lambd: float, X: np.ndarray, y: np.ndarray) -> float:\n",
    "  results = np.array([])\n",
    "\n",
    "  for train_index, test_index in kf.split(X):\n",
    "    X_train, X_test, y_train, y_test = X[train_index], X[test_index], y[train_index], y[test_index]\n",
    "    w = ridge(lambd, X_train, y_train)\n",
    "    result = rmse(w, X_test, y_test)\n",
    "    results = np.append(results, [result])\n",
    "\n",
    "  return results.mean()"
   ]
  },
  {
   "cell_type": "code",
   "execution_count": 111,
   "metadata": {},
   "outputs": [],
   "source": [
    "lambds = [0.1, 1, 10, 100, 200]\n",
    "\n",
    "output = [cv(lambd, X, y) for lambd in lambds]\n",
    "np.savetxt('output.csv', output)"
   ]
  }
 ],
 "metadata": {
  "interpreter": {
   "hash": "916dbcbb3f70747c44a77c7bcd40155683ae19c65e1c03b4aa3499c5328201f1"
  },
  "kernelspec": {
   "display_name": "Python 3.8.10 64-bit",
   "language": "python",
   "name": "python3"
  },
  "language_info": {
   "codemirror_mode": {
    "name": "ipython",
    "version": 3
   },
   "file_extension": ".py",
   "mimetype": "text/x-python",
   "name": "python",
   "nbconvert_exporter": "python",
   "pygments_lexer": "ipython3",
   "version": "3.8.10"
  },
  "orig_nbformat": 4
 },
 "nbformat": 4,
 "nbformat_minor": 2
}
