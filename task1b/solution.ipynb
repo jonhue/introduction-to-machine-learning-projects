{
 "cells": [
  {
   "cell_type": "code",
   "execution_count": 132,
   "metadata": {},
   "outputs": [],
   "source": [
    "import numpy as np\n",
    "from typing import Callable, Tuple\n",
    "from sklearn.model_selection import KFold\n",
    "from sklearn.linear_model import ElasticNet\n",
    "from tqdm import tqdm\n",
    "\n",
    "kf = KFold(n_splits=10)"
   ]
  },
  {
   "cell_type": "code",
   "execution_count": 133,
   "metadata": {},
   "outputs": [],
   "source": [
    "Kernel = Callable[[np.ndarray], np.ndarray]\n",
    "\n",
    "\n",
    "KERNEL: Kernel = lambda x: np.array([\n",
    "  x[0],\n",
    "  x[1],\n",
    "  x[2],\n",
    "  x[3],\n",
    "  x[4],\n",
    "  x[0] ** 2,\n",
    "  x[1] ** 2,\n",
    "  x[2] ** 2,\n",
    "  x[3] ** 2,\n",
    "  x[4] ** 2,\n",
    "  np.exp(x[0]),\n",
    "  np.exp(x[1]),\n",
    "  np.exp(x[2]),\n",
    "  np.exp(x[3]),\n",
    "  np.exp(x[4]),\n",
    "  np.cos(x[0]),\n",
    "  np.cos(x[1]),\n",
    "  np.cos(x[2]),\n",
    "  np.cos(x[3]),\n",
    "  np.cos(x[4]),\n",
    "  1,\n",
    "])"
   ]
  },
  {
   "cell_type": "code",
   "execution_count": 134,
   "metadata": {},
   "outputs": [],
   "source": [
    "def compute_features(kernel: Kernel, X: np.ndarray) -> np.ndarray:\n",
    "  return np.apply_along_axis(kernel, 1, X)"
   ]
  },
  {
   "cell_type": "code",
   "execution_count": 135,
   "metadata": {},
   "outputs": [],
   "source": [
    "data = np.genfromtxt('train.csv', delimiter=',')\n",
    "y = data[1:,1]\n",
    "X = data[1:,2:]"
   ]
  },
  {
   "cell_type": "code",
   "execution_count": 136,
   "metadata": {},
   "outputs": [],
   "source": [
    "def predict(w: np.ndarray, X: np.ndarray) -> np.ndarray:\n",
    "  return X @ w"
   ]
  },
  {
   "cell_type": "code",
   "execution_count": 137,
   "metadata": {},
   "outputs": [],
   "source": [
    "def rmse(y_test: np.ndarray, y_pred: np.ndarray) -> float:\n",
    "  mse = np.square(np.subtract(y_test, y_pred)).mean()\n",
    "  return np.sqrt(mse)"
   ]
  },
  {
   "cell_type": "code",
   "execution_count": 138,
   "metadata": {},
   "outputs": [],
   "source": [
    "def cv(lambd: float, X: np.ndarray, y: np.ndarray) -> Tuple[np.ndarray, float]:\n",
    "  results = np.array([])\n",
    "\n",
    "  X_feat = compute_features(KERNEL, X)\n",
    "\n",
    "  for train_index, test_index in kf.split(X_feat):\n",
    "    X_train, X_test, y_train, y_test = X_feat[train_index], X_feat[test_index], y[train_index], y[test_index]\n",
    "    regr = ElasticNet(random_state=0, alpha=lambd, fit_intercept=False)\n",
    "    regr.fit(X_train, y_train)\n",
    "    y_pred = predict(regr.coef_, X_test)\n",
    "    result = rmse(y_test, y_pred)\n",
    "    results = np.append(results, [result])\n",
    "\n",
    "  return regr, results.mean()"
   ]
  },
  {
   "cell_type": "code",
   "execution_count": 139,
   "metadata": {},
   "outputs": [
    {
     "name": "stderr",
     "output_type": "stream",
     "text": [
      "  0%|          | 0/6 [00:00<?, ?it/s]/Users/jonas/Projects/school/iml/venv/lib/python3.9/site-packages/sklearn/linear_model/_coordinate_descent.py:631: ConvergenceWarning: Objective did not converge. You might want to increase the number of iterations, check the scale of the features or consider increasing regularisation. Duality gap: 4.281e+01, tolerance: 2.736e+00\n",
      "  model = cd_fast.enet_coordinate_descent(\n",
      "/Users/jonas/Projects/school/iml/venv/lib/python3.9/site-packages/sklearn/linear_model/_coordinate_descent.py:631: ConvergenceWarning: Objective did not converge. You might want to increase the number of iterations, check the scale of the features or consider increasing regularisation. Duality gap: 4.010e+01, tolerance: 2.747e+00\n",
      "  model = cd_fast.enet_coordinate_descent(\n",
      "/Users/jonas/Projects/school/iml/venv/lib/python3.9/site-packages/sklearn/linear_model/_coordinate_descent.py:631: ConvergenceWarning: Objective did not converge. You might want to increase the number of iterations, check the scale of the features or consider increasing regularisation. Duality gap: 4.182e+01, tolerance: 2.775e+00\n",
      "  model = cd_fast.enet_coordinate_descent(\n",
      "/Users/jonas/Projects/school/iml/venv/lib/python3.9/site-packages/sklearn/linear_model/_coordinate_descent.py:631: ConvergenceWarning: Objective did not converge. You might want to increase the number of iterations, check the scale of the features or consider increasing regularisation. Duality gap: 3.953e+01, tolerance: 2.751e+00\n",
      "  model = cd_fast.enet_coordinate_descent(\n",
      "/Users/jonas/Projects/school/iml/venv/lib/python3.9/site-packages/sklearn/linear_model/_coordinate_descent.py:631: ConvergenceWarning: Objective did not converge. You might want to increase the number of iterations, check the scale of the features or consider increasing regularisation. Duality gap: 4.275e+01, tolerance: 2.770e+00\n",
      "  model = cd_fast.enet_coordinate_descent(\n",
      "/Users/jonas/Projects/school/iml/venv/lib/python3.9/site-packages/sklearn/linear_model/_coordinate_descent.py:631: ConvergenceWarning: Objective did not converge. You might want to increase the number of iterations, check the scale of the features or consider increasing regularisation. Duality gap: 3.357e+01, tolerance: 2.770e+00\n",
      "  model = cd_fast.enet_coordinate_descent(\n",
      "/Users/jonas/Projects/school/iml/venv/lib/python3.9/site-packages/sklearn/linear_model/_coordinate_descent.py:631: ConvergenceWarning: Objective did not converge. You might want to increase the number of iterations, check the scale of the features or consider increasing regularisation. Duality gap: 2.727e+01, tolerance: 2.726e+00\n",
      "  model = cd_fast.enet_coordinate_descent(\n",
      "/Users/jonas/Projects/school/iml/venv/lib/python3.9/site-packages/sklearn/linear_model/_coordinate_descent.py:631: ConvergenceWarning: Objective did not converge. You might want to increase the number of iterations, check the scale of the features or consider increasing regularisation. Duality gap: 3.939e+01, tolerance: 2.723e+00\n",
      "  model = cd_fast.enet_coordinate_descent(\n",
      "/Users/jonas/Projects/school/iml/venv/lib/python3.9/site-packages/sklearn/linear_model/_coordinate_descent.py:631: ConvergenceWarning: Objective did not converge. You might want to increase the number of iterations, check the scale of the features or consider increasing regularisation. Duality gap: 3.771e+01, tolerance: 2.763e+00\n",
      "  model = cd_fast.enet_coordinate_descent(\n",
      "/Users/jonas/Projects/school/iml/venv/lib/python3.9/site-packages/sklearn/linear_model/_coordinate_descent.py:631: ConvergenceWarning: Objective did not converge. You might want to increase the number of iterations, check the scale of the features or consider increasing regularisation. Duality gap: 3.686e+01, tolerance: 2.747e+00\n",
      "  model = cd_fast.enet_coordinate_descent(\n",
      "100%|██████████| 6/6 [00:01<00:00,  3.92it/s]\n"
     ]
    },
    {
     "data": {
      "text/plain": [
       "1.9521189464764443"
      ]
     },
     "execution_count": 139,
     "metadata": {},
     "output_type": "execute_result"
    }
   ],
   "source": [
    "lambds = [0.01, 0.1, 1, 10, 100, 200]\n",
    "\n",
    "loss_opt = np.inf\n",
    "for lambd in tqdm(lambds):\n",
    "    regr_new, loss = cv(lambd, X, y)\n",
    "    if loss < loss_opt:\n",
    "        loss_opt = loss\n",
    "        regr = regr_new\n",
    "loss_opt"
   ]
  },
  {
   "cell_type": "code",
   "execution_count": 141,
   "metadata": {},
   "outputs": [
    {
     "data": {
      "text/plain": [
       "1.9568775769845357"
      ]
     },
     "execution_count": 141,
     "metadata": {},
     "output_type": "execute_result"
    }
   ],
   "source": [
    "y_pred = predict(regr.coef_, compute_features(KERNEL, X))\n",
    "rmse(y, y_pred)"
   ]
  },
  {
   "cell_type": "code",
   "execution_count": 140,
   "metadata": {},
   "outputs": [],
   "source": [
    "output = regr.coef_\n",
    "np.savetxt('output.csv', output)"
   ]
  },
  {
   "cell_type": "code",
   "execution_count": null,
   "metadata": {},
   "outputs": [],
   "source": []
  }
 ],
 "metadata": {
  "interpreter": {
   "hash": "916dbcbb3f70747c44a77c7bcd40155683ae19c65e1c03b4aa3499c5328201f1"
  },
  "kernelspec": {
   "display_name": "Python 3.8.10 64-bit",
   "language": "python",
   "name": "python3"
  },
  "language_info": {
   "codemirror_mode": {
    "name": "ipython",
    "version": 3
   },
   "file_extension": ".py",
   "mimetype": "text/x-python",
   "name": "python",
   "nbconvert_exporter": "python",
   "pygments_lexer": "ipython3",
   "version": "3.9.13"
  },
  "orig_nbformat": 4
 },
 "nbformat": 4,
 "nbformat_minor": 2
}
