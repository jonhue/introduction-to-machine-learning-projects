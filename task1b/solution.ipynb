{
 "cells": [
  {
   "cell_type": "code",
   "execution_count": 10,
   "metadata": {},
   "outputs": [],
   "source": [
    "import numpy as np\n",
    "from typing import Callable"
   ]
  },
  {
   "cell_type": "code",
   "execution_count": 11,
   "metadata": {},
   "outputs": [],
   "source": [
    "Kernel = Callable[[np.ndarray], np.ndarray]\n",
    "\n",
    "\n",
    "KERNEL: Kernel = lambda x: np.array([\n",
    "  x[0],\n",
    "  x[1],\n",
    "  x[2],\n",
    "  x[3],\n",
    "  x[4],\n",
    "  x[0] ** 2,\n",
    "  x[1] ** 2,\n",
    "  x[2] ** 2,\n",
    "  x[3] ** 2,\n",
    "  x[4] ** 2,\n",
    "  np.exp(x[0]),\n",
    "  np.exp(x[1]),\n",
    "  np.exp(x[2]),\n",
    "  np.exp(x[3]),\n",
    "  np.exp(x[4]),\n",
    "  np.cos(x[0]),\n",
    "  np.cos(x[1]),\n",
    "  np.cos(x[2]),\n",
    "  np.cos(x[3]),\n",
    "  np.cos(x[4]),\n",
    "  1,\n",
    "])"
   ]
  },
  {
   "cell_type": "code",
   "execution_count": 12,
   "metadata": {},
   "outputs": [],
   "source": [
    "def compute_features(kernel: Kernel, X: np.ndarray) -> np.ndarray:\n",
    "  return np.apply_along_axis(kernel, 1, X)"
   ]
  },
  {
   "cell_type": "code",
   "execution_count": 13,
   "metadata": {},
   "outputs": [],
   "source": [
    "data = np.genfromtxt('train.csv', delimiter=',')\n",
    "y = data[1:,1]\n",
    "X = data[1:,2:]"
   ]
  },
  {
   "cell_type": "code",
   "execution_count": 16,
   "metadata": {},
   "outputs": [],
   "source": [
    "def kernel_ridge(lambd: float, kernel: Kernel, X_train: np.ndarray, y_train: np.ndarray) -> np.ndarray:\n",
    "  X_feat = compute_features(kernel, X_train)\n",
    "  w = np.dot(np.dot(np.linalg.inv(np.dot(X_feat.T, X_feat) + lambd), X_feat.T), y_train)\n",
    "  return w"
   ]
  },
  {
   "cell_type": "code",
   "execution_count": 17,
   "metadata": {},
   "outputs": [],
   "source": [
    "def kernel_predict(w: np.ndarray, kernel: Kernel, X: np.ndarray) -> np.ndarray:\n",
    "  X_feat = compute_features(kernel, X)\n",
    "  return np.matmul(X_feat, w)"
   ]
  },
  {
   "cell_type": "code",
   "execution_count": 18,
   "metadata": {},
   "outputs": [],
   "source": [
    "output = kernel_ridge(1, KERNEL, X, y)\n",
    "np.savetxt('output.csv', output)"
   ]
  }
 ],
 "metadata": {
  "interpreter": {
   "hash": "916dbcbb3f70747c44a77c7bcd40155683ae19c65e1c03b4aa3499c5328201f1"
  },
  "kernelspec": {
   "display_name": "Python 3.8.10 64-bit",
   "language": "python",
   "name": "python3"
  },
  "language_info": {
   "codemirror_mode": {
    "name": "ipython",
    "version": 3
   },
   "file_extension": ".py",
   "mimetype": "text/x-python",
   "name": "python",
   "nbconvert_exporter": "python",
   "pygments_lexer": "ipython3",
   "version": "3.8.10"
  },
  "orig_nbformat": 4
 },
 "nbformat": 4,
 "nbformat_minor": 2
}
