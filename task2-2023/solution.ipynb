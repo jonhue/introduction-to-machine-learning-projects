{
 "cells": [
  {
   "cell_type": "code",
   "execution_count": 341,
   "metadata": {},
   "outputs": [],
   "source": [
    "from sklearn.svm import SVR\n",
    "from sklearn.preprocessing import StandardScaler\n",
    "from sklearn.gaussian_process import GaussianProcessRegressor\n",
    "from sklearn.gaussian_process.kernels import DotProduct, RBF, Matern, RationalQuadratic, WhiteKernel, ExpSineSquared, ConstantKernel\n",
    "from sklearn.model_selection import train_test_split\n",
    "from sklearn.model_selection import GridSearchCV\n",
    "import pandas as pd\n",
    "import numpy as np\n",
    "from joblib import dump, load\n",
    "import os"
   ]
  },
  {
   "cell_type": "code",
   "execution_count": 105,
   "metadata": {},
   "outputs": [],
   "source": [
    "MODEL_PATH = 'models'"
   ]
  },
  {
   "cell_type": "code",
   "execution_count": 106,
   "metadata": {},
   "outputs": [],
   "source": [
    "SEASON = 'season'\n",
    "\n",
    "LABEL = 'price_CHF'"
   ]
  },
  {
   "cell_type": "markdown",
   "metadata": {},
   "source": [
    "# Data"
   ]
  },
  {
   "cell_type": "code",
   "execution_count": 107,
   "metadata": {},
   "outputs": [],
   "source": [
    "train_df = pd.read_csv('train.csv')\n",
    "test_df = pd.read_csv('test.csv')"
   ]
  },
  {
   "cell_type": "code",
   "execution_count": 108,
   "metadata": {},
   "outputs": [],
   "source": [
    "train_df = train_df[train_df[LABEL].notna()]"
   ]
  },
  {
   "cell_type": "code",
   "execution_count": 109,
   "metadata": {},
   "outputs": [],
   "source": [
    "X = train_df.loc[:, train_df.columns != LABEL]\n",
    "Y = train_df[LABEL]\n",
    "\n",
    "X_sub = test_df"
   ]
  },
  {
   "cell_type": "markdown",
   "metadata": {},
   "source": [
    "# Preprocessing"
   ]
  },
  {
   "cell_type": "code",
   "execution_count": 110,
   "metadata": {},
   "outputs": [],
   "source": [
    "def preprocess(X: pd.DataFrame) -> np.ndarray:\n",
    "  X[SEASON] = X[SEASON].astype('category').cat.codes\n",
    "  X.fillna(X.mean(axis='rows'), inplace=True)\n",
    "  return X\n",
    "  # return StandardScaler().fit_transform(X)"
   ]
  },
  {
   "cell_type": "code",
   "execution_count": 111,
   "metadata": {},
   "outputs": [
    {
     "name": "stderr",
     "output_type": "stream",
     "text": [
      "/var/folders/gq/4c0zg0rx0pv4n82cfglq0vb00000gn/T/ipykernel_27381/3365633482.py:2: SettingWithCopyWarning: \n",
      "A value is trying to be set on a copy of a slice from a DataFrame.\n",
      "Try using .loc[row_indexer,col_indexer] = value instead\n",
      "\n",
      "See the caveats in the documentation: https://pandas.pydata.org/pandas-docs/stable/user_guide/indexing.html#returning-a-view-versus-a-copy\n",
      "  X[SEASON] = X[SEASON].astype('category').cat.codes\n",
      "/var/folders/gq/4c0zg0rx0pv4n82cfglq0vb00000gn/T/ipykernel_27381/3365633482.py:3: SettingWithCopyWarning: \n",
      "A value is trying to be set on a copy of a slice from a DataFrame.\n",
      "Try using .loc[row_indexer,col_indexer] = value instead\n",
      "\n",
      "See the caveats in the documentation: https://pandas.pydata.org/pandas-docs/stable/user_guide/indexing.html#returning-a-view-versus-a-copy\n",
      "  X.fillna(X.mean(axis='rows'), inplace=True)\n"
     ]
    }
   ],
   "source": [
    "X = preprocess(X)\n",
    "X_sub = preprocess(X_sub)"
   ]
  },
  {
   "cell_type": "code",
   "execution_count": 112,
   "metadata": {},
   "outputs": [],
   "source": [
    "X_train, X_test, Y_train, Y_test = train_test_split(X, Y, test_size=0.2)"
   ]
  },
  {
   "cell_type": "markdown",
   "metadata": {},
   "source": [
    "# Training"
   ]
  },
  {
   "cell_type": "code",
   "execution_count": 410,
   "metadata": {},
   "outputs": [],
   "source": [
    "param_grid = [\n",
    "    # {\n",
    "    #     \"alpha\":  [1, 1e-1, 1e-2, 1e-3],\n",
    "    #     \"kernel\": [RBF(l) for l in np.logspace(-2, -1, 3)]\n",
    "    # },\n",
    "    # {\n",
    "    #     \"alpha\":  [1e-1, 1e-2, 1e-3],\n",
    "    #     \"kernel\": [Matern(l) for l in np.logspace(-2, -1, 3)]\n",
    "    # },\n",
    "    # {\n",
    "    #     \"alpha\":  [1e-1, 1e-2],\n",
    "    #     \"kernel\": [Matern(l) * ExpSineSquared() for l in np.logspace(-2, -1, 3)]\n",
    "    # },\n",
    "    {\n",
    "        \"alpha\":  [0.1],\n",
    "        # \"kernel\": [Matern(0.4) * ExpSineSquared(length_scale=1, periodicity=1.5)]\n",
    "        \"kernel\": [Matern(0.4, nu=1.5) * ExpSineSquared(length_scale=1, periodicity=1.5) + ConstantKernel(10) * Matern(1000)]\n",
    "    }\n",
    "]"
   ]
  },
  {
   "cell_type": "code",
   "execution_count": 411,
   "metadata": {},
   "outputs": [
    {
     "name": "stdout",
     "output_type": "stream",
     "text": [
      "{'alpha': 0.1, 'kernel': Matern(length_scale=0.4, nu=1.5) * ExpSineSquared(length_scale=1, periodicity=1.5) + 3.16**2 * Matern(length_scale=1e+03, nu=1.5) * ExpSineSquared(length_scale=100, periodicity=150)}\n"
     ]
    }
   ],
   "source": [
    "gp = GaussianProcessRegressor()\n",
    "regr = GridSearchCV(estimator=gp, param_grid=param_grid, cv=4, scoring=\"r2\")\n",
    "regr.fit(X, Y)\n",
    "print(regr.best_params_)"
   ]
  },
  {
   "cell_type": "code",
   "execution_count": 412,
   "metadata": {},
   "outputs": [
    {
     "data": {
      "text/plain": [
       "0.20520468321127594"
      ]
     },
     "execution_count": 412,
     "metadata": {},
     "output_type": "execute_result"
    }
   ],
   "source": [
    "np.max(regr.cv_results_[\"mean_test_score\"])"
   ]
  },
  {
   "cell_type": "code",
   "execution_count": 397,
   "metadata": {},
   "outputs": [],
   "source": [
    "def train_regr(X_train: np.ndarray, Y_train: pd.DataFrame, version='', force_new=True) -> SVR:\n",
    "  file_name = f'{MODEL_PATH}/{version}.joblib'\n",
    "\n",
    "  if not force_new and os.path.isfile(file_name):\n",
    "    return load(file_name)\n",
    "  else:\n",
    "\n",
    "    # regr = SVR(epsilon=0.5)\n",
    "    regr = GaussianProcessRegressor(kernel=Matern(0.4, nu=1.5) * ExpSineSquared(length_scale=1, periodicity=1.5) + ConstantKernel(10) * Matern(1000), alpha=0.1, random_state=0)\n",
    "    regr.fit(X_train, Y_train)\n",
    "\n",
    "    print(regr.score(X_train, Y_train))\n",
    "\n",
    "    dump(regr, file_name)\n",
    "\n",
    "    return regr"
   ]
  },
  {
   "cell_type": "code",
   "execution_count": 398,
   "metadata": {},
   "outputs": [
    {
     "name": "stdout",
     "output_type": "stream",
     "text": [
      "0.999999462018581\n"
     ]
    }
   ],
   "source": [
    "train_model = train_regr(X_train, Y_train, 'train')"
   ]
  },
  {
   "cell_type": "code",
   "execution_count": 399,
   "metadata": {},
   "outputs": [
    {
     "data": {
      "text/html": [
       "<style>#sk-container-id-11 {color: black;background-color: white;}#sk-container-id-11 pre{padding: 0;}#sk-container-id-11 div.sk-toggleable {background-color: white;}#sk-container-id-11 label.sk-toggleable__label {cursor: pointer;display: block;width: 100%;margin-bottom: 0;padding: 0.3em;box-sizing: border-box;text-align: center;}#sk-container-id-11 label.sk-toggleable__label-arrow:before {content: \"▸\";float: left;margin-right: 0.25em;color: #696969;}#sk-container-id-11 label.sk-toggleable__label-arrow:hover:before {color: black;}#sk-container-id-11 div.sk-estimator:hover label.sk-toggleable__label-arrow:before {color: black;}#sk-container-id-11 div.sk-toggleable__content {max-height: 0;max-width: 0;overflow: hidden;text-align: left;background-color: #f0f8ff;}#sk-container-id-11 div.sk-toggleable__content pre {margin: 0.2em;color: black;border-radius: 0.25em;background-color: #f0f8ff;}#sk-container-id-11 input.sk-toggleable__control:checked~div.sk-toggleable__content {max-height: 200px;max-width: 100%;overflow: auto;}#sk-container-id-11 input.sk-toggleable__control:checked~label.sk-toggleable__label-arrow:before {content: \"▾\";}#sk-container-id-11 div.sk-estimator input.sk-toggleable__control:checked~label.sk-toggleable__label {background-color: #d4ebff;}#sk-container-id-11 div.sk-label input.sk-toggleable__control:checked~label.sk-toggleable__label {background-color: #d4ebff;}#sk-container-id-11 input.sk-hidden--visually {border: 0;clip: rect(1px 1px 1px 1px);clip: rect(1px, 1px, 1px, 1px);height: 1px;margin: -1px;overflow: hidden;padding: 0;position: absolute;width: 1px;}#sk-container-id-11 div.sk-estimator {font-family: monospace;background-color: #f0f8ff;border: 1px dotted black;border-radius: 0.25em;box-sizing: border-box;margin-bottom: 0.5em;}#sk-container-id-11 div.sk-estimator:hover {background-color: #d4ebff;}#sk-container-id-11 div.sk-parallel-item::after {content: \"\";width: 100%;border-bottom: 1px solid gray;flex-grow: 1;}#sk-container-id-11 div.sk-label:hover label.sk-toggleable__label {background-color: #d4ebff;}#sk-container-id-11 div.sk-serial::before {content: \"\";position: absolute;border-left: 1px solid gray;box-sizing: border-box;top: 0;bottom: 0;left: 50%;z-index: 0;}#sk-container-id-11 div.sk-serial {display: flex;flex-direction: column;align-items: center;background-color: white;padding-right: 0.2em;padding-left: 0.2em;position: relative;}#sk-container-id-11 div.sk-item {position: relative;z-index: 1;}#sk-container-id-11 div.sk-parallel {display: flex;align-items: stretch;justify-content: center;background-color: white;position: relative;}#sk-container-id-11 div.sk-item::before, #sk-container-id-11 div.sk-parallel-item::before {content: \"\";position: absolute;border-left: 1px solid gray;box-sizing: border-box;top: 0;bottom: 0;left: 50%;z-index: -1;}#sk-container-id-11 div.sk-parallel-item {display: flex;flex-direction: column;z-index: 1;position: relative;background-color: white;}#sk-container-id-11 div.sk-parallel-item:first-child::after {align-self: flex-end;width: 50%;}#sk-container-id-11 div.sk-parallel-item:last-child::after {align-self: flex-start;width: 50%;}#sk-container-id-11 div.sk-parallel-item:only-child::after {width: 0;}#sk-container-id-11 div.sk-dashed-wrapped {border: 1px dashed gray;margin: 0 0.4em 0.5em 0.4em;box-sizing: border-box;padding-bottom: 0.4em;background-color: white;}#sk-container-id-11 div.sk-label label {font-family: monospace;font-weight: bold;display: inline-block;line-height: 1.2em;}#sk-container-id-11 div.sk-label-container {text-align: center;}#sk-container-id-11 div.sk-container {/* jupyter's `normalize.less` sets `[hidden] { display: none; }` but bootstrap.min.css set `[hidden] { display: none !important; }` so we also need the `!important` here to be able to override the default hidden behavior on the sphinx rendered scikit-learn.org. See: https://github.com/scikit-learn/scikit-learn/issues/21755 */display: inline-block !important;position: relative;}#sk-container-id-11 div.sk-text-repr-fallback {display: none;}</style><div id=\"sk-container-id-11\" class=\"sk-top-container\"><div class=\"sk-text-repr-fallback\"><pre>GaussianProcessRegressor(alpha=0.1,\n",
       "                         kernel=Matern(length_scale=0.4, nu=1.5) * ExpSineSquared(length_scale=1, periodicity=1.5) + 3.16**2 * Matern(length_scale=1e+03, nu=1.5),\n",
       "                         random_state=0)</pre><b>In a Jupyter environment, please rerun this cell to show the HTML representation or trust the notebook. <br />On GitHub, the HTML representation is unable to render, please try loading this page with nbviewer.org.</b></div><div class=\"sk-container\" hidden><div class=\"sk-item\"><div class=\"sk-estimator sk-toggleable\"><input class=\"sk-toggleable__control sk-hidden--visually\" id=\"sk-estimator-id-11\" type=\"checkbox\" checked><label for=\"sk-estimator-id-11\" class=\"sk-toggleable__label sk-toggleable__label-arrow\">GaussianProcessRegressor</label><div class=\"sk-toggleable__content\"><pre>GaussianProcessRegressor(alpha=0.1,\n",
       "                         kernel=Matern(length_scale=0.4, nu=1.5) * ExpSineSquared(length_scale=1, periodicity=1.5) + 3.16**2 * Matern(length_scale=1e+03, nu=1.5),\n",
       "                         random_state=0)</pre></div></div></div></div></div>"
      ],
      "text/plain": [
       "GaussianProcessRegressor(alpha=0.1,\n",
       "                         kernel=Matern(length_scale=0.4, nu=1.5) * ExpSineSquared(length_scale=1, periodicity=1.5) + 3.16**2 * Matern(length_scale=1e+03, nu=1.5),\n",
       "                         random_state=0)"
      ]
     },
     "execution_count": 399,
     "metadata": {},
     "output_type": "execute_result"
    }
   ],
   "source": [
    "train_model"
   ]
  },
  {
   "cell_type": "markdown",
   "metadata": {},
   "source": [
    "# Prepare Submission"
   ]
  },
  {
   "cell_type": "code",
   "execution_count": 400,
   "metadata": {},
   "outputs": [
    {
     "name": "stdout",
     "output_type": "stream",
     "text": [
      "0.9967935844188958\n"
     ]
    },
    {
     "data": {
      "text/html": [
       "<style>#sk-container-id-12 {color: black;background-color: white;}#sk-container-id-12 pre{padding: 0;}#sk-container-id-12 div.sk-toggleable {background-color: white;}#sk-container-id-12 label.sk-toggleable__label {cursor: pointer;display: block;width: 100%;margin-bottom: 0;padding: 0.3em;box-sizing: border-box;text-align: center;}#sk-container-id-12 label.sk-toggleable__label-arrow:before {content: \"▸\";float: left;margin-right: 0.25em;color: #696969;}#sk-container-id-12 label.sk-toggleable__label-arrow:hover:before {color: black;}#sk-container-id-12 div.sk-estimator:hover label.sk-toggleable__label-arrow:before {color: black;}#sk-container-id-12 div.sk-toggleable__content {max-height: 0;max-width: 0;overflow: hidden;text-align: left;background-color: #f0f8ff;}#sk-container-id-12 div.sk-toggleable__content pre {margin: 0.2em;color: black;border-radius: 0.25em;background-color: #f0f8ff;}#sk-container-id-12 input.sk-toggleable__control:checked~div.sk-toggleable__content {max-height: 200px;max-width: 100%;overflow: auto;}#sk-container-id-12 input.sk-toggleable__control:checked~label.sk-toggleable__label-arrow:before {content: \"▾\";}#sk-container-id-12 div.sk-estimator input.sk-toggleable__control:checked~label.sk-toggleable__label {background-color: #d4ebff;}#sk-container-id-12 div.sk-label input.sk-toggleable__control:checked~label.sk-toggleable__label {background-color: #d4ebff;}#sk-container-id-12 input.sk-hidden--visually {border: 0;clip: rect(1px 1px 1px 1px);clip: rect(1px, 1px, 1px, 1px);height: 1px;margin: -1px;overflow: hidden;padding: 0;position: absolute;width: 1px;}#sk-container-id-12 div.sk-estimator {font-family: monospace;background-color: #f0f8ff;border: 1px dotted black;border-radius: 0.25em;box-sizing: border-box;margin-bottom: 0.5em;}#sk-container-id-12 div.sk-estimator:hover {background-color: #d4ebff;}#sk-container-id-12 div.sk-parallel-item::after {content: \"\";width: 100%;border-bottom: 1px solid gray;flex-grow: 1;}#sk-container-id-12 div.sk-label:hover label.sk-toggleable__label {background-color: #d4ebff;}#sk-container-id-12 div.sk-serial::before {content: \"\";position: absolute;border-left: 1px solid gray;box-sizing: border-box;top: 0;bottom: 0;left: 50%;z-index: 0;}#sk-container-id-12 div.sk-serial {display: flex;flex-direction: column;align-items: center;background-color: white;padding-right: 0.2em;padding-left: 0.2em;position: relative;}#sk-container-id-12 div.sk-item {position: relative;z-index: 1;}#sk-container-id-12 div.sk-parallel {display: flex;align-items: stretch;justify-content: center;background-color: white;position: relative;}#sk-container-id-12 div.sk-item::before, #sk-container-id-12 div.sk-parallel-item::before {content: \"\";position: absolute;border-left: 1px solid gray;box-sizing: border-box;top: 0;bottom: 0;left: 50%;z-index: -1;}#sk-container-id-12 div.sk-parallel-item {display: flex;flex-direction: column;z-index: 1;position: relative;background-color: white;}#sk-container-id-12 div.sk-parallel-item:first-child::after {align-self: flex-end;width: 50%;}#sk-container-id-12 div.sk-parallel-item:last-child::after {align-self: flex-start;width: 50%;}#sk-container-id-12 div.sk-parallel-item:only-child::after {width: 0;}#sk-container-id-12 div.sk-dashed-wrapped {border: 1px dashed gray;margin: 0 0.4em 0.5em 0.4em;box-sizing: border-box;padding-bottom: 0.4em;background-color: white;}#sk-container-id-12 div.sk-label label {font-family: monospace;font-weight: bold;display: inline-block;line-height: 1.2em;}#sk-container-id-12 div.sk-label-container {text-align: center;}#sk-container-id-12 div.sk-container {/* jupyter's `normalize.less` sets `[hidden] { display: none; }` but bootstrap.min.css set `[hidden] { display: none !important; }` so we also need the `!important` here to be able to override the default hidden behavior on the sphinx rendered scikit-learn.org. See: https://github.com/scikit-learn/scikit-learn/issues/21755 */display: inline-block !important;position: relative;}#sk-container-id-12 div.sk-text-repr-fallback {display: none;}</style><div id=\"sk-container-id-12\" class=\"sk-top-container\"><div class=\"sk-text-repr-fallback\"><pre>GaussianProcessRegressor(alpha=0.1,\n",
       "                         kernel=Matern(length_scale=0.4, nu=1.5) * ExpSineSquared(length_scale=1, periodicity=1.5) + 3.16**2 * Matern(length_scale=1e+03, nu=1.5),\n",
       "                         random_state=0)</pre><b>In a Jupyter environment, please rerun this cell to show the HTML representation or trust the notebook. <br />On GitHub, the HTML representation is unable to render, please try loading this page with nbviewer.org.</b></div><div class=\"sk-container\" hidden><div class=\"sk-item\"><div class=\"sk-estimator sk-toggleable\"><input class=\"sk-toggleable__control sk-hidden--visually\" id=\"sk-estimator-id-12\" type=\"checkbox\" checked><label for=\"sk-estimator-id-12\" class=\"sk-toggleable__label sk-toggleable__label-arrow\">GaussianProcessRegressor</label><div class=\"sk-toggleable__content\"><pre>GaussianProcessRegressor(alpha=0.1,\n",
       "                         kernel=Matern(length_scale=0.4, nu=1.5) * ExpSineSquared(length_scale=1, periodicity=1.5) + 3.16**2 * Matern(length_scale=1e+03, nu=1.5),\n",
       "                         random_state=0)</pre></div></div></div></div></div>"
      ],
      "text/plain": [
       "GaussianProcessRegressor(alpha=0.1,\n",
       "                         kernel=Matern(length_scale=0.4, nu=1.5) * ExpSineSquared(length_scale=1, periodicity=1.5) + 3.16**2 * Matern(length_scale=1e+03, nu=1.5),\n",
       "                         random_state=0)"
      ]
     },
     "execution_count": 400,
     "metadata": {},
     "output_type": "execute_result"
    }
   ],
   "source": [
    "train_regr(X, Y, 'sub')"
   ]
  },
  {
   "cell_type": "code",
   "execution_count": 401,
   "metadata": {},
   "outputs": [],
   "source": [
    "def prepare_regr(X_test: np.ndarray, version='') -> pd.DataFrame:\n",
    "  regr = load(f'{MODEL_PATH}/{version}.joblib')\n",
    "  y_pred = regr.predict(X_test)\n",
    "  return pd.DataFrame(y_pred, columns=[LABEL])"
   ]
  },
  {
   "cell_type": "code",
   "execution_count": 402,
   "metadata": {},
   "outputs": [],
   "source": [
    "y_pred = prepare_regr(X_sub, 'sub')"
   ]
  },
  {
   "cell_type": "code",
   "execution_count": 403,
   "metadata": {},
   "outputs": [
    {
     "data": {
      "text/html": [
       "<div>\n",
       "<style scoped>\n",
       "    .dataframe tbody tr th:only-of-type {\n",
       "        vertical-align: middle;\n",
       "    }\n",
       "\n",
       "    .dataframe tbody tr th {\n",
       "        vertical-align: top;\n",
       "    }\n",
       "\n",
       "    .dataframe thead th {\n",
       "        text-align: right;\n",
       "    }\n",
       "</style>\n",
       "<table border=\"1\" class=\"dataframe\">\n",
       "  <thead>\n",
       "    <tr style=\"text-align: right;\">\n",
       "      <th></th>\n",
       "      <th>season</th>\n",
       "      <th>price_AUS</th>\n",
       "      <th>price_CZE</th>\n",
       "      <th>price_GER</th>\n",
       "      <th>price_ESP</th>\n",
       "      <th>price_FRA</th>\n",
       "      <th>price_UK</th>\n",
       "      <th>price_ITA</th>\n",
       "      <th>price_POL</th>\n",
       "      <th>price_SVK</th>\n",
       "    </tr>\n",
       "  </thead>\n",
       "  <tbody>\n",
       "    <tr>\n",
       "      <th>0</th>\n",
       "      <td>1</td>\n",
       "      <td>-1.331262</td>\n",
       "      <td>0.472985</td>\n",
       "      <td>0.707957</td>\n",
       "      <td>-3.924473</td>\n",
       "      <td>-1.136441</td>\n",
       "      <td>-0.596703</td>\n",
       "      <td>-3.163394</td>\n",
       "      <td>3.298693</td>\n",
       "      <td>1.921886</td>\n",
       "    </tr>\n",
       "    <tr>\n",
       "      <th>1</th>\n",
       "      <td>2</td>\n",
       "      <td>-1.184837</td>\n",
       "      <td>0.358019</td>\n",
       "      <td>-0.951635</td>\n",
       "      <td>-3.199028</td>\n",
       "      <td>-1.069695</td>\n",
       "      <td>-2.190843</td>\n",
       "      <td>-1.420091</td>\n",
       "      <td>3.238307</td>\n",
       "      <td>-1.941443</td>\n",
       "    </tr>\n",
       "    <tr>\n",
       "      <th>2</th>\n",
       "      <td>0</td>\n",
       "      <td>-1.116459</td>\n",
       "      <td>-0.997273</td>\n",
       "      <td>0.780460</td>\n",
       "      <td>-3.338948</td>\n",
       "      <td>-1.053149</td>\n",
       "      <td>-0.586339</td>\n",
       "      <td>-3.163394</td>\n",
       "      <td>3.207398</td>\n",
       "      <td>2.020570</td>\n",
       "    </tr>\n",
       "    <tr>\n",
       "      <th>3</th>\n",
       "      <td>3</td>\n",
       "      <td>-1.331262</td>\n",
       "      <td>0.353066</td>\n",
       "      <td>0.833429</td>\n",
       "      <td>-3.924473</td>\n",
       "      <td>-1.322626</td>\n",
       "      <td>-0.628873</td>\n",
       "      <td>-1.304240</td>\n",
       "      <td>3.159858</td>\n",
       "      <td>-1.941443</td>\n",
       "    </tr>\n",
       "    <tr>\n",
       "      <th>4</th>\n",
       "      <td>1</td>\n",
       "      <td>-1.331262</td>\n",
       "      <td>0.269644</td>\n",
       "      <td>-0.951635</td>\n",
       "      <td>-3.245495</td>\n",
       "      <td>-1.362051</td>\n",
       "      <td>-0.717914</td>\n",
       "      <td>-1.341538</td>\n",
       "      <td>3.205007</td>\n",
       "      <td>-1.941443</td>\n",
       "    </tr>\n",
       "    <tr>\n",
       "      <th>...</th>\n",
       "      <td>...</td>\n",
       "      <td>...</td>\n",
       "      <td>...</td>\n",
       "      <td>...</td>\n",
       "      <td>...</td>\n",
       "      <td>...</td>\n",
       "      <td>...</td>\n",
       "      <td>...</td>\n",
       "      <td>...</td>\n",
       "      <td>...</td>\n",
       "    </tr>\n",
       "    <tr>\n",
       "      <th>95</th>\n",
       "      <td>3</td>\n",
       "      <td>-2.030894</td>\n",
       "      <td>-0.997273</td>\n",
       "      <td>-1.332104</td>\n",
       "      <td>-3.838154</td>\n",
       "      <td>-3.322586</td>\n",
       "      <td>-2.319565</td>\n",
       "      <td>-3.163394</td>\n",
       "      <td>-2.134084</td>\n",
       "      <td>-2.880557</td>\n",
       "    </tr>\n",
       "    <tr>\n",
       "      <th>96</th>\n",
       "      <td>1</td>\n",
       "      <td>-1.817763</td>\n",
       "      <td>-0.997273</td>\n",
       "      <td>-0.951635</td>\n",
       "      <td>-3.995247</td>\n",
       "      <td>-3.760752</td>\n",
       "      <td>-2.190843</td>\n",
       "      <td>-3.903510</td>\n",
       "      <td>-2.269992</td>\n",
       "      <td>-3.007311</td>\n",
       "    </tr>\n",
       "    <tr>\n",
       "      <th>97</th>\n",
       "      <td>2</td>\n",
       "      <td>-1.331262</td>\n",
       "      <td>-0.997273</td>\n",
       "      <td>-1.140538</td>\n",
       "      <td>-4.084448</td>\n",
       "      <td>-3.968988</td>\n",
       "      <td>-2.555133</td>\n",
       "      <td>-4.058773</td>\n",
       "      <td>-2.146487</td>\n",
       "      <td>-2.816678</td>\n",
       "    </tr>\n",
       "    <tr>\n",
       "      <th>98</th>\n",
       "      <td>0</td>\n",
       "      <td>-1.331262</td>\n",
       "      <td>-1.029762</td>\n",
       "      <td>-0.951635</td>\n",
       "      <td>-4.216490</td>\n",
       "      <td>-3.705548</td>\n",
       "      <td>-2.487751</td>\n",
       "      <td>-3.745480</td>\n",
       "      <td>-0.767164</td>\n",
       "      <td>-2.849707</td>\n",
       "    </tr>\n",
       "    <tr>\n",
       "      <th>99</th>\n",
       "      <td>3</td>\n",
       "      <td>-1.472852</td>\n",
       "      <td>-0.935032</td>\n",
       "      <td>-0.951635</td>\n",
       "      <td>-4.463277</td>\n",
       "      <td>-3.488559</td>\n",
       "      <td>-2.190843</td>\n",
       "      <td>-3.534069</td>\n",
       "      <td>-1.836267</td>\n",
       "      <td>-1.941443</td>\n",
       "    </tr>\n",
       "  </tbody>\n",
       "</table>\n",
       "<p>100 rows × 10 columns</p>\n",
       "</div>"
      ],
      "text/plain": [
       "    season  price_AUS  price_CZE  price_GER  price_ESP  price_FRA  price_UK  \\\n",
       "0        1  -1.331262   0.472985   0.707957  -3.924473  -1.136441 -0.596703   \n",
       "1        2  -1.184837   0.358019  -0.951635  -3.199028  -1.069695 -2.190843   \n",
       "2        0  -1.116459  -0.997273   0.780460  -3.338948  -1.053149 -0.586339   \n",
       "3        3  -1.331262   0.353066   0.833429  -3.924473  -1.322626 -0.628873   \n",
       "4        1  -1.331262   0.269644  -0.951635  -3.245495  -1.362051 -0.717914   \n",
       "..     ...        ...        ...        ...        ...        ...       ...   \n",
       "95       3  -2.030894  -0.997273  -1.332104  -3.838154  -3.322586 -2.319565   \n",
       "96       1  -1.817763  -0.997273  -0.951635  -3.995247  -3.760752 -2.190843   \n",
       "97       2  -1.331262  -0.997273  -1.140538  -4.084448  -3.968988 -2.555133   \n",
       "98       0  -1.331262  -1.029762  -0.951635  -4.216490  -3.705548 -2.487751   \n",
       "99       3  -1.472852  -0.935032  -0.951635  -4.463277  -3.488559 -2.190843   \n",
       "\n",
       "    price_ITA  price_POL  price_SVK  \n",
       "0   -3.163394   3.298693   1.921886  \n",
       "1   -1.420091   3.238307  -1.941443  \n",
       "2   -3.163394   3.207398   2.020570  \n",
       "3   -1.304240   3.159858  -1.941443  \n",
       "4   -1.341538   3.205007  -1.941443  \n",
       "..        ...        ...        ...  \n",
       "95  -3.163394  -2.134084  -2.880557  \n",
       "96  -3.903510  -2.269992  -3.007311  \n",
       "97  -4.058773  -2.146487  -2.816678  \n",
       "98  -3.745480  -0.767164  -2.849707  \n",
       "99  -3.534069  -1.836267  -1.941443  \n",
       "\n",
       "[100 rows x 10 columns]"
      ]
     },
     "execution_count": 403,
     "metadata": {},
     "output_type": "execute_result"
    }
   ],
   "source": [
    "X_sub"
   ]
  },
  {
   "cell_type": "code",
   "execution_count": 404,
   "metadata": {},
   "outputs": [],
   "source": [
    "y_pred.to_csv('submission.csv', index=False, float_format='%.3f')"
   ]
  },
  {
   "cell_type": "markdown",
   "metadata": {},
   "source": [
    "# Analysis"
   ]
  },
  {
   "cell_type": "code",
   "execution_count": 54,
   "metadata": {},
   "outputs": [],
   "source": [
    "import sklearn.metrics as metrics"
   ]
  },
  {
   "cell_type": "code",
   "execution_count": 55,
   "metadata": {},
   "outputs": [],
   "source": [
    "def evaluate_regr(Y_test: pd.DataFrame, y_pred: np.ndarray) -> float:\n",
    "  return metrics.r2_score(Y_test, y_pred)"
   ]
  },
  {
   "cell_type": "code",
   "execution_count": 56,
   "metadata": {},
   "outputs": [],
   "source": [
    "y_pred = prepare_regr(X_test, 'train')"
   ]
  },
  {
   "cell_type": "code",
   "execution_count": 57,
   "metadata": {},
   "outputs": [
    {
     "data": {
      "text/plain": [
       "(     price_CHF\n",
       " 0     2.976842\n",
       " 1     8.287131\n",
       " 2     8.443576\n",
       " 3    -0.578157\n",
       " 4     9.221172\n",
       " ..         ...\n",
       " 122   5.126854\n",
       " 123   8.404327\n",
       " 124   2.783058\n",
       " 125   7.355990\n",
       " 126   7.274661\n",
       " \n",
       " [127 rows x 1 columns],\n",
       " 542    2.744384\n",
       " 132    8.221076\n",
       " 69     8.730717\n",
       " 417   -2.483055\n",
       " 153    9.243569\n",
       "          ...   \n",
       " 737    5.214904\n",
       " 381    8.099139\n",
       " 602    2.741465\n",
       " 677    7.697540\n",
       " 755    8.129605\n",
       " Name: price_CHF, Length: 127, dtype: float64)"
      ]
     },
     "execution_count": 57,
     "metadata": {},
     "output_type": "execute_result"
    }
   ],
   "source": [
    "y_pred, Y_test"
   ]
  },
  {
   "cell_type": "code",
   "execution_count": 58,
   "metadata": {},
   "outputs": [
    {
     "data": {
      "text/plain": [
       "0.944863758350182"
      ]
     },
     "execution_count": 58,
     "metadata": {},
     "output_type": "execute_result"
    }
   ],
   "source": [
    "evaluate_regr(Y_test, y_pred)"
   ]
  },
  {
   "cell_type": "code",
   "execution_count": null,
   "metadata": {},
   "outputs": [],
   "source": []
  }
 ],
 "metadata": {
  "interpreter": {
   "hash": "916dbcbb3f70747c44a77c7bcd40155683ae19c65e1c03b4aa3499c5328201f1"
  },
  "kernelspec": {
   "display_name": "Python 3.8.10 64-bit",
   "language": "python",
   "name": "python3"
  },
  "language_info": {
   "codemirror_mode": {
    "name": "ipython",
    "version": 3
   },
   "file_extension": ".py",
   "mimetype": "text/x-python",
   "name": "python",
   "nbconvert_exporter": "python",
   "pygments_lexer": "ipython3",
   "version": "3.9.13"
  },
  "orig_nbformat": 4
 },
 "nbformat": 4,
 "nbformat_minor": 2
}
