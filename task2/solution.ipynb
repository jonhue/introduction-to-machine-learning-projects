{
 "cells": [
  {
   "cell_type": "code",
   "execution_count": 1,
   "metadata": {},
   "outputs": [],
   "source": [
    "from sklearn.svm import SVC, SVR\n",
    "from sklearn.preprocessing import StandardScaler\n",
    "from sklearn.model_selection import train_test_split\n",
    "import pandas as pd\n",
    "import numpy as np\n",
    "from joblib import dump, load\n",
    "import os\n",
    "from typing import Tuple\n",
    "from tqdm import tqdm"
   ]
  },
  {
   "cell_type": "code",
   "execution_count": 2,
   "metadata": {},
   "outputs": [],
   "source": [
    "MODEL_PATH = 'models'"
   ]
  },
  {
   "cell_type": "code",
   "execution_count": 3,
   "metadata": {},
   "outputs": [],
   "source": [
    "PID = 'pid'\n",
    "\n",
    "VITALS = ['LABEL_RRate', 'LABEL_ABPm', 'LABEL_SpO2', 'LABEL_Heartrate']\n",
    "TESTS = ['LABEL_BaseExcess', 'LABEL_Fibrinogen', 'LABEL_AST', 'LABEL_Alkalinephos', 'LABEL_Bilirubin_total',\n",
    "         'LABEL_Lactate', 'LABEL_TroponinI', 'LABEL_SaO2',\n",
    "         'LABEL_Bilirubin_direct', 'LABEL_EtCO2']\n",
    "SEPSIS = 'LABEL_Sepsis'"
   ]
  },
  {
   "cell_type": "markdown",
   "metadata": {},
   "source": [
    "# Data"
   ]
  },
  {
   "cell_type": "code",
   "execution_count": 4,
   "metadata": {},
   "outputs": [],
   "source": [
    "features = pd.read_csv('train_features.csv')\n",
    "labels = pd.read_csv('train_labels.csv')\n",
    "sub_features = pd.read_csv('test_features.csv')"
   ]
  },
  {
   "cell_type": "markdown",
   "metadata": {},
   "source": [
    "# Preprocessing"
   ]
  },
  {
   "cell_type": "code",
   "execution_count": 5,
   "metadata": {},
   "outputs": [],
   "source": [
    "def preprocess_labels(labels: pd.DataFrame) -> pd.DataFrame:\n",
    "  return labels.sort_values(PID)\n",
    "\n",
    "def preprocess_features(features: pd.DataFrame) -> Tuple[np.ndarray, np.ndarray]:\n",
    "  features = features.copy()\n",
    "\n",
    "  # Sort features and remove time\n",
    "  features.sort_values('Time', inplace=True)\n",
    "  features.sort_values(PID, kind='stable', inplace=True)\n",
    "  features.drop('Time', axis='columns', inplace=True)\n",
    "\n",
    "  pids = features[PID].unique()\n",
    "\n",
    "  features_mean = features.groupby(PID).mean().add_suffix('_mean')\n",
    "  features_std = features.groupby(PID).std().add_suffix('_std')\n",
    "  features_count = features.groupby(PID).count().add_suffix('_count')\n",
    "\n",
    "  full_features = pd.concat([features_mean, features_std, features_count], axis='columns')\n",
    "  full_features.fillna(full_features.mean(axis='rows'), inplace=True)\n",
    "\n",
    "  return StandardScaler().fit_transform(full_features), pids"
   ]
  },
  {
   "cell_type": "code",
   "execution_count": 6,
   "metadata": {},
   "outputs": [],
   "source": [
    "X, pids = preprocess_features(features)\n",
    "Y = preprocess_labels(labels)\n",
    "X_sub, sub_pids = preprocess_features(sub_features)"
   ]
  },
  {
   "cell_type": "code",
   "execution_count": 7,
   "metadata": {},
   "outputs": [],
   "source": [
    "X_train, X_test, Y_train, Y_test = train_test_split(X, Y, test_size=0.2)"
   ]
  },
  {
   "cell_type": "markdown",
   "metadata": {},
   "source": [
    "# Training"
   ]
  },
  {
   "cell_type": "code",
   "execution_count": 8,
   "metadata": {},
   "outputs": [],
   "source": [
    "def train_clf(entry: str, X_train: np.ndarray, Y_train: pd.DataFrame, version='', force_new=False) -> SVC:\n",
    "  file_name = f'{MODEL_PATH}/{entry}{version}.joblib'\n",
    "\n",
    "  if not force_new and os.path.isfile(file_name):\n",
    "    return load(file_name)\n",
    "  else:\n",
    "    y_train = Y_train[entry]\n",
    "\n",
    "    clf = SVC(probability=True, class_weight='balanced')\n",
    "    clf.fit(X_train, y_train)\n",
    "\n",
    "    dump(clf, file_name)\n",
    "\n",
    "    return clf\n",
    "\n",
    "def train_regr(entry: str, X_train: np.ndarray, Y_train: pd.DataFrame, version='', force_new=False) -> SVR:\n",
    "  file_name = f'{MODEL_PATH}/{entry}{version}.joblib'\n",
    "\n",
    "  if not force_new and os.path.isfile(file_name):\n",
    "    return load(file_name)\n",
    "  else:\n",
    "    y_train = Y_train[entry]\n",
    "\n",
    "    regr = SVR(epsilon=0.5)\n",
    "    regr.fit(X_train, y_train)\n",
    "\n",
    "    dump(regr, file_name)\n",
    "\n",
    "    return regr"
   ]
  },
  {
   "cell_type": "code",
   "execution_count": 13,
   "metadata": {},
   "outputs": [
    {
     "name": "stderr",
     "output_type": "stream",
     "text": [
      "100%|██████████| 10/10 [16:34<00:00, 99.44s/it]\n",
      "100%|██████████| 4/4 [01:03<00:00, 15.85s/it]\n"
     ]
    }
   ],
   "source": [
    "# Task 1\n",
    "for entry in tqdm(TESTS):\n",
    "  train_clf(entry, X_train, Y_train, '_train')\n",
    "\n",
    "# Task 2\n",
    "train_clf(SEPSIS, X_train, Y_train, '_train')\n",
    "\n",
    "# Task 3\n",
    "for entry in tqdm(VITALS):\n",
    "  train_regr(entry, X_train, Y_train, '_train')"
   ]
  },
  {
   "cell_type": "markdown",
   "metadata": {},
   "source": [
    "# Prepare Submission"
   ]
  },
  {
   "cell_type": "code",
   "execution_count": 9,
   "metadata": {},
   "outputs": [
    {
     "name": "stderr",
     "output_type": "stream",
     "text": [
      "100%|██████████| 10/10 [27:25<00:00, 164.59s/it]\n",
      "100%|██████████| 4/4 [01:41<00:00, 25.32s/it]\n"
     ]
    }
   ],
   "source": [
    "# Task 1\n",
    "for entry in tqdm(TESTS):\n",
    "  train_clf(entry, X, Y)\n",
    "\n",
    "# Task 2\n",
    "train_clf(SEPSIS, X, Y)\n",
    "\n",
    "# Task 3\n",
    "for entry in tqdm(VITALS):\n",
    "  train_regr(entry, X, Y)"
   ]
  },
  {
   "cell_type": "code",
   "execution_count": 10,
   "metadata": {},
   "outputs": [],
   "source": [
    "def prepare_clf(entry: str, X_test: np.ndarray, version='') -> pd.DataFrame:\n",
    "  clf = load(f'{MODEL_PATH}/{entry}{version}.joblib')\n",
    "  y_pred = clf.predict_proba(X_test)[:,1]\n",
    "  return pd.DataFrame(y_pred, columns=[entry])\n",
    "\n",
    "def prepare_regr(entry: str, X_test: np.ndarray, version='') -> pd.DataFrame:\n",
    "  regr = load(f'{MODEL_PATH}/{entry}{version}.joblib')\n",
    "  y_pred = regr.predict(X_test)\n",
    "  return pd.DataFrame(y_pred, columns=[entry])"
   ]
  },
  {
   "cell_type": "code",
   "execution_count": 11,
   "metadata": {},
   "outputs": [
    {
     "name": "stderr",
     "output_type": "stream",
     "text": [
      "100%|██████████| 10/10 [03:03<00:00, 18.36s/it]\n",
      "100%|██████████| 4/4 [01:45<00:00, 26.35s/it]\n"
     ]
    }
   ],
   "source": [
    "y_pred = [pd.DataFrame(sub_pids, columns=[PID])]\n",
    "\n",
    "# Task 1\n",
    "for entry in tqdm(TESTS):\n",
    "  y_pred.append(prepare_clf(entry, X_sub))\n",
    "\n",
    "# Task 2\n",
    "y_pred.append(prepare_clf(SEPSIS, X_sub))\n",
    "\n",
    "# Task 3\n",
    "for entry in tqdm(VITALS):\n",
    "  y_pred.append(prepare_regr(entry, X_sub))"
   ]
  },
  {
   "cell_type": "code",
   "execution_count": 12,
   "metadata": {},
   "outputs": [],
   "source": [
    "submission = pd.concat(y_pred, axis='columns')\n",
    "submission.to_csv('submission.zip', index=False, float_format='%.3f', compression='zip')"
   ]
  },
  {
   "cell_type": "markdown",
   "metadata": {},
   "source": [
    "# Analysis"
   ]
  },
  {
   "cell_type": "code",
   "execution_count": 14,
   "metadata": {},
   "outputs": [],
   "source": [
    "import sklearn.metrics as metrics"
   ]
  },
  {
   "cell_type": "code",
   "execution_count": 15,
   "metadata": {},
   "outputs": [],
   "source": [
    "def evaluate_clf(entry: str, Y_test: pd.DataFrame, y_pred: np.ndarray, verbose=False) -> float:\n",
    "  roc_auc = metrics.roc_auc_score(Y_test[entry], y_pred)\n",
    "\n",
    "  if verbose:\n",
    "    print(entry, '---')\n",
    "    print('accuracy', metrics.accuracy_score(Y_test[entry], np.around(y_pred)))\n",
    "    print('recall', metrics.recall_score(Y_test[entry], np.around(y_pred)))\n",
    "    print('precision', metrics.precision_score(Y_test[entry], np.around(y_pred)))\n",
    "    print('ROC AUC', roc_auc)\n",
    "\n",
    "  return roc_auc\n",
    "\n",
    "def evaluate_regr(entry: str, Y_test: pd.DataFrame, y_pred: np.ndarray, verbose=False) -> float:\n",
    "  r2 = 0.5 + 0.5 * np.maximum(0, metrics.r2_score(Y_test[entry], y_pred))\n",
    "  \n",
    "  if verbose:\n",
    "    print(entry, '---')\n",
    "    print('R2', r2)\n",
    "\n",
    "  return r2"
   ]
  },
  {
   "cell_type": "code",
   "execution_count": 17,
   "metadata": {},
   "outputs": [
    {
     "name": "stderr",
     "output_type": "stream",
     "text": [
      "100%|██████████| 10/10 [00:44<00:00,  4.44s/it]\n"
     ]
    },
    {
     "name": "stdout",
     "output_type": "stream",
     "text": [
      "TASK 1: 0.807753368162541\n",
      "TASK 2: 0.9222469348913379\n"
     ]
    },
    {
     "name": "stderr",
     "output_type": "stream",
     "text": [
      "100%|██████████| 4/4 [00:25<00:00,  6.48s/it]"
     ]
    },
    {
     "name": "stdout",
     "output_type": "stream",
     "text": [
      "TASK 3: 0.7115516606663133\n"
     ]
    },
    {
     "name": "stderr",
     "output_type": "stream",
     "text": [
      "\n"
     ]
    }
   ],
   "source": [
    "# Task 1\n",
    "task1 = []\n",
    "for entry in tqdm(TESTS):\n",
    "  task1.append(evaluate_clf(entry, Y_test, prepare_clf(entry, X_test, '_train')))\n",
    "print('TASK 1:', np.mean(task1))\n",
    "\n",
    "# Task 2\n",
    "task2 = evaluate_clf(entry, Y_test, prepare_clf(entry, X_test, '_train'))\n",
    "print('TASK 2:', task2)\n",
    "\n",
    "# Task 3\n",
    "task3 = []\n",
    "for entry in tqdm(VITALS):\n",
    "  task3.append(evaluate_regr(entry, Y_test, prepare_regr(entry, X_test, '_train')))\n",
    "print('TASK 3:', np.mean(task3))"
   ]
  }
 ],
 "metadata": {
  "interpreter": {
   "hash": "916dbcbb3f70747c44a77c7bcd40155683ae19c65e1c03b4aa3499c5328201f1"
  },
  "kernelspec": {
   "display_name": "Python 3.8.10 64-bit",
   "language": "python",
   "name": "python3"
  },
  "language_info": {
   "codemirror_mode": {
    "name": "ipython",
    "version": 3
   },
   "file_extension": ".py",
   "mimetype": "text/x-python",
   "name": "python",
   "nbconvert_exporter": "python",
   "pygments_lexer": "ipython3",
   "version": "3.6.8"
  },
  "orig_nbformat": 4
 },
 "nbformat": 4,
 "nbformat_minor": 2
}
