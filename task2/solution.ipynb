{
 "cells": [
  {
   "cell_type": "code",
   "execution_count": 15,
   "metadata": {},
   "outputs": [],
   "source": [
    "from sklearn.svm import SVC, SVR\n",
    "from sklearn.preprocessing import StandardScaler\n",
    "import pandas as pd\n",
    "import numpy as np\n",
    "from joblib import dump, load\n",
    "import os\n",
    "from typing import Tuple"
   ]
  },
  {
   "cell_type": "code",
   "execution_count": 2,
   "metadata": {},
   "outputs": [],
   "source": [
    "MODEL_PATH = 'models'"
   ]
  },
  {
   "cell_type": "code",
   "execution_count": 3,
   "metadata": {},
   "outputs": [],
   "source": [
    "PID = 'pid'\n",
    "\n",
    "VITALS = ['LABEL_RRate', 'LABEL_ABPm', 'LABEL_SpO2', 'LABEL_Heartrate']\n",
    "TESTS = ['LABEL_BaseExcess', 'LABEL_Fibrinogen', 'LABEL_AST', 'LABEL_Alkalinephos', 'LABEL_Bilirubin_total',\n",
    "         'LABEL_Lactate', 'LABEL_TroponinI', 'LABEL_SaO2',\n",
    "         'LABEL_Bilirubin_direct', 'LABEL_EtCO2']\n",
    "SEPSIS = 'LABEL_Sepsis'"
   ]
  },
  {
   "cell_type": "markdown",
   "metadata": {},
   "source": [
    "# Data"
   ]
  },
  {
   "cell_type": "code",
   "execution_count": 4,
   "metadata": {},
   "outputs": [],
   "source": [
    "train_features = pd.read_csv('train_features.csv')\n",
    "train_labels = pd.read_csv('train_labels.csv')\n",
    "test_features = pd.read_csv('test_features.csv')"
   ]
  },
  {
   "cell_type": "markdown",
   "metadata": {},
   "source": [
    "# Preprocessing"
   ]
  },
  {
   "cell_type": "code",
   "execution_count": 16,
   "metadata": {},
   "outputs": [],
   "source": [
    "def preprocess_labels(labels: pd.DataFrame) -> pd.DataFrame:\n",
    "  return labels.sort_values(PID)\n",
    "\n",
    "def preprocess_features(features: pd.DataFrame) -> Tuple[np.ndarray, np.ndarray]:\n",
    "  features = features.copy()\n",
    "\n",
    "  # Sort features and remove time\n",
    "  features.sort_values('Time', inplace=True)\n",
    "  features.sort_values(PID, kind='stable', inplace=True)\n",
    "  features.drop('Time', axis='columns', inplace=True)\n",
    "\n",
    "  pids = features[PID].unique()\n",
    "\n",
    "  features_mean = features.groupby(PID).mean().add_suffix('_mean')\n",
    "  features_std = features.groupby(PID).std().add_suffix('_std')\n",
    "  # features_count = features.groupby(PID).count().add_suffix('_count')\n",
    "\n",
    "  full_features = pd.concat([features_mean, features_std], axis='columns')\n",
    "  full_features.fillna(full_features.mean(axis='rows'), inplace=True)\n",
    "\n",
    "  return StandardScaler().fit_transform(full_features), pids"
   ]
  },
  {
   "cell_type": "code",
   "execution_count": 17,
   "metadata": {},
   "outputs": [],
   "source": [
    "X_train, train_pids = preprocess_features(train_features)\n",
    "y_train = preprocess_labels(train_labels)\n",
    "X_test, test_pids = preprocess_features(test_features)"
   ]
  },
  {
   "cell_type": "markdown",
   "metadata": {},
   "source": [
    "# Training"
   ]
  },
  {
   "cell_type": "code",
   "execution_count": 7,
   "metadata": {},
   "outputs": [],
   "source": [
    "def train_clf(entry: str, X_train: np.ndarray, train_labels: pd.DataFrame, force_new=False) -> SVC:\n",
    "  file_name = f'{MODEL_PATH}/{entry}.joblib'\n",
    "\n",
    "  if not force_new and os.path.isfile(file_name):\n",
    "    return load(file_name)\n",
    "  else:\n",
    "    y_train = train_labels[entry]\n",
    "\n",
    "    clf = SVC(probability=True, class_weight='balanced')\n",
    "    clf.fit(X_train, y_train)\n",
    "\n",
    "    dump(clf, file_name)\n",
    "\n",
    "    return clf\n",
    "\n",
    "def train_regr(entry: str, X_train: np.ndarray, train_labels: pd.DataFrame, force_new=False) -> SVR:\n",
    "  file_name = f'{MODEL_PATH}/{entry}.joblib'\n",
    "\n",
    "  if not force_new and os.path.isfile(file_name):\n",
    "    return load(file_name)\n",
    "  else:\n",
    "    y_train = train_labels[entry]\n",
    "\n",
    "    regr = SVR()\n",
    "    regr.fit(X_train, y_train)\n",
    "\n",
    "    dump(regr, file_name)\n",
    "\n",
    "    return regr"
   ]
  },
  {
   "cell_type": "code",
   "execution_count": 8,
   "metadata": {},
   "outputs": [],
   "source": [
    "# Task 1\n",
    "for entry in TESTS:\n",
    "  train_clf(entry, X_train, train_labels)\n",
    "\n",
    "# Task 2\n",
    "train_clf(SEPSIS, X_train, train_labels)\n",
    "\n",
    "# Task 3\n",
    "for entry in VITALS:\n",
    "  train_regr(entry, X_train, train_labels)"
   ]
  },
  {
   "cell_type": "markdown",
   "metadata": {},
   "source": [
    "# Prepare Submission"
   ]
  },
  {
   "cell_type": "code",
   "execution_count": 9,
   "metadata": {},
   "outputs": [],
   "source": [
    "def prepare_clf(entry: str, X_test: np.ndarray) -> pd.DataFrame:\n",
    "  clf = load(f'{MODEL_PATH}/{entry}.joblib')\n",
    "  y_pred = clf.predict_proba(X_test)[:,1]\n",
    "  return pd.DataFrame(y_pred, columns=[entry])\n",
    "\n",
    "def prepare_regr(entry: str, X_test: np.ndarray) -> pd.DataFrame:\n",
    "  regr = load(f'{MODEL_PATH}/{entry}.joblib')\n",
    "  y_pred = regr.predict(X_test)\n",
    "  return pd.DataFrame(y_pred, columns=[entry])"
   ]
  },
  {
   "cell_type": "code",
   "execution_count": 21,
   "metadata": {},
   "outputs": [],
   "source": [
    "y_pred = [pd.DataFrame(test_pids, columns=[PID])]\n",
    "\n",
    "# Task 1\n",
    "for entry in TESTS:\n",
    "  y_pred.append(prepare_clf(entry, X_test))\n",
    "\n",
    "# Task 2\n",
    "y_pred.append(prepare_clf(SEPSIS, X_test))\n",
    "\n",
    "# Task 3\n",
    "for entry in VITALS:\n",
    "  y_pred.append(prepare_regr(entry, X_test))"
   ]
  },
  {
   "cell_type": "code",
   "execution_count": null,
   "metadata": {},
   "outputs": [],
   "source": [
    "submission = pd.concat(y_pred, axis='columns')\n",
    "submission.to_csv('submission.zip', index=False, float_format='%.3f', compression='zip')"
   ]
  },
  {
   "cell_type": "markdown",
   "metadata": {},
   "source": [
    "# Analysis"
   ]
  },
  {
   "cell_type": "code",
   "execution_count": 34,
   "metadata": {},
   "outputs": [],
   "source": [
    "import sklearn.metrics as metrics"
   ]
  },
  {
   "cell_type": "code",
   "execution_count": 35,
   "metadata": {},
   "outputs": [],
   "source": [
    "def print_report(clf: SVC, X_test: np.ndarray, y_test: pd.DataFrame):\n",
    "  y_pred = clf.predict(X_test)\n",
    "  y_pred\n",
    "\n",
    "  y_pred_proba = clf.predict_proba(X_test)[:,1]\n",
    "  y_pred_proba\n",
    "\n",
    "  print('accuracy', metrics.accuracy_score(y_test, y_pred))\n",
    "  print('recall', metrics.recall_score(y_test, y_pred))\n",
    "  print('precision', metrics.precision_score(y_test, y_pred))\n",
    "  print('ROC AUC', metrics.roc_auc_score(y_test, y_pred_proba))"
   ]
  },
  {
   "cell_type": "code",
   "execution_count": 36,
   "metadata": {},
   "outputs": [
    {
     "name": "stdout",
     "output_type": "stream",
     "text": [
      "accuracy 0.9147143985259278\n",
      "recall 0.8520220588235294\n",
      "precision 0.38851634534786256\n",
      "ROC AUC 0.9475991560973527\n"
     ]
    }
   ],
   "source": [
    "print_report(clf, X_train, train_labels['LABEL_Sepsis'])"
   ]
  }
 ],
 "metadata": {
  "interpreter": {
   "hash": "916dbcbb3f70747c44a77c7bcd40155683ae19c65e1c03b4aa3499c5328201f1"
  },
  "kernelspec": {
   "display_name": "Python 3.8.10 64-bit",
   "language": "python",
   "name": "python3"
  },
  "language_info": {
   "codemirror_mode": {
    "name": "ipython",
    "version": 3
   },
   "file_extension": ".py",
   "mimetype": "text/x-python",
   "name": "python",
   "nbconvert_exporter": "python",
   "pygments_lexer": "ipython3",
   "version": "3.6.8"
  },
  "orig_nbformat": 4
 },
 "nbformat": 4,
 "nbformat_minor": 2
}
